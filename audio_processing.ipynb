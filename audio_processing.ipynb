{
 "cells": [
  {
   "cell_type": "code",
   "execution_count": 1,
   "metadata": {},
   "outputs": [],
   "source": [
    "import wave\n",
    "import numpy as np\n",
    "import matplotlib.pyplot as plt\n",
    "\n",
    "\n",
    "#loading the audio file as wave object\n",
    "hello_world = wave.open(\"Hello-World.wav\", \"r\")"
   ]
  },
  {
   "cell_type": "code",
   "execution_count": 2,
   "metadata": {},
   "outputs": [],
   "source": [
    "#convert wave object to byte \n",
    "hello_world_soundwave =  hello_world.readframes(-1)"
   ]
  },
  {
   "cell_type": "code",
   "execution_count": 3,
   "metadata": {},
   "outputs": [
    {
     "data": {
      "text/plain": [
       "b'\\xed\\xff\\xde\\xff\\xe4\\xff\\xf2\\xff\\xf1\\xff'"
      ]
     },
     "execution_count": 3,
     "metadata": {},
     "output_type": "execute_result"
    }
   ],
   "source": [
    "#View the files in byte form\n",
    "hello_world_soundwave[:10]"
   ]
  },
  {
   "cell_type": "markdown",
   "metadata": {},
   "source": [
    "<b>Converting soundwave byte to interger</b>"
   ]
  },
  {
   "cell_type": "code",
   "execution_count": 4,
   "metadata": {},
   "outputs": [],
   "source": [
    "#convert from byte to interger\n",
    "singnal_hw = np.frombuffer(hello_world_soundwave, dtype='int16')"
   ]
  },
  {
   "cell_type": "code",
   "execution_count": 5,
   "metadata": {},
   "outputs": [
    {
     "data": {
      "text/plain": [
       "array([-19, -34, -28, -14, -15,   1, -22, -20,  -3, -22], dtype=int16)"
      ]
     },
     "execution_count": 5,
     "metadata": {},
     "output_type": "execute_result"
    }
   ],
   "source": [
    "#show the first 10 items\n",
    "singnal_hw[:10]"
   ]
  },
  {
   "cell_type": "markdown",
   "metadata": {},
   "source": [
    "<b>Finding the frame rate</b>"
   ]
  },
  {
   "cell_type": "code",
   "execution_count": 6,
   "metadata": {},
   "outputs": [
    {
     "data": {
      "text/plain": [
       "22050"
      ]
     },
     "execution_count": 6,
     "metadata": {},
     "output_type": "execute_result"
    }
   ],
   "source": [
    "#get the frame rate\n",
    "framerate_hw = hello_world.getframerate()\n",
    "\n",
    "#Show the frame rate\n",
    "framerate_hw"
   ]
  },
  {
   "cell_type": "markdown",
   "metadata": {},
   "source": [
    "<b>Finding Soundwave timestamp</b>"
   ]
  },
  {
   "cell_type": "code",
   "execution_count": 7,
   "metadata": {},
   "outputs": [
    {
     "data": {
      "text/plain": [
       "array([ 1.,  2.,  3.,  4.,  5.,  6.,  7.,  8.,  9., 10.])"
      ]
     },
     "execution_count": 7,
     "metadata": {},
     "output_type": "execute_result"
    }
   ],
   "source": [
    "#Return evenly spaced values between start and stop\n",
    "np.linspace(start=1, stop=10, num=10)"
   ]
  },
  {
   "cell_type": "code",
   "execution_count": 8,
   "metadata": {},
   "outputs": [],
   "source": [
    "#Get the timestamp of the good morning soundwave\n",
    "time_hw = np.linspace(start=0, \n",
    "                     stop=len(hello_world_soundwave)/framerate_hw,\n",
    "                     num=len(hello_world_soundwave))"
   ]
  },
  {
   "cell_type": "code",
   "execution_count": 9,
   "metadata": {},
   "outputs": [
    {
     "data": {
      "text/plain": [
       "array([0.00000000e+00, 4.53519881e-05, 9.07039762e-05, 1.36055964e-04,\n",
       "       1.81407952e-04, 2.26759941e-04, 2.72111929e-04, 3.17463917e-04,\n",
       "       3.62815905e-04, 4.08167893e-04])"
      ]
     },
     "execution_count": 9,
     "metadata": {},
     "output_type": "execute_result"
    }
   ],
   "source": [
    "#View first 10 timestamp of good morning soundwave\n",
    "time_hw[:10]"
   ]
  },
  {
   "cell_type": "markdown",
   "metadata": {},
   "source": [
    "<b>Visualizing sound waves</b>"
   ]
  },
  {
   "cell_type": "code",
   "execution_count": 10,
   "metadata": {},
   "outputs": [],
   "source": [
    "#add another sound wave\n",
    "hello_erick = wave.open(\"Hello-Erick.wav\", \"r\")\n",
    "\n",
    "#convert wave object to byte \n",
    "hello_erick_soundwave =  hello_erick.readframes(-1)\n",
    "\n",
    "#convert from byte to interger\n",
    "singnal_he = np.frombuffer(hello_erick_soundwave, dtype='int16')\n",
    "\n",
    "#get the frame rate\n",
    "framerate_he = hello_erick.getframerate()\n",
    "\n",
    "\n",
    "#Get the timestamp of the good morning soundwave\n",
    "time_he = np.linspace(start=0, \n",
    "                     stop=len(hello_erick_soundwave)/framerate_he,\n",
    "                     num=len(hello_erick_soundwave))\n"
   ]
  },
  {
   "cell_type": "code",
   "execution_count": 11,
   "metadata": {},
   "outputs": [
    {
     "data": {
      "text/plain": [
       "22050"
      ]
     },
     "execution_count": 11,
     "metadata": {},
     "output_type": "execute_result"
    }
   ],
   "source": [
    "#lets get the frame rate of the new hello Erick\n",
    "framerate_he"
   ]
  },
  {
   "cell_type": "code",
   "execution_count": null,
   "metadata": {},
   "outputs": [],
   "source": [
    "#Initalize figures and seting up titles\n",
    "plt.title(\"Hello Erick  vs Hello World\")\n",
    "plt.xlabel(\"Time (seconds)\")\n",
    "plt.ylabel(\"Amplitude\")\n",
    "\n",
    "#adding good morining and good afternoon values\n",
    "plt.plot(time_he, hello_erick_soundwave, lebel=\"Hello Erick\")\n",
    "plt.plot(time_hw, hello_world_soundwave, lebel=\"Hello World\", alpha=0.5)\n",
    "\n",
    "#Create legend and show our plot\n",
    "plt.legend()\n",
    "plt.show()"
   ]
  },
  {
   "cell_type": "code",
   "execution_count": 12,
   "metadata": {},
   "outputs": [],
   "source": [
    "import speech_recognition as sr"
   ]
  },
  {
   "cell_type": "code",
   "execution_count": 13,
   "metadata": {},
   "outputs": [],
   "source": [
    "recognizer =  sr.Recognizer()\n",
    "\n",
    "#setting the energy threashold\n",
    "recognizer.energy_treshold = 300"
   ]
  },
  {
   "cell_type": "code",
   "execution_count": 14,
   "metadata": {},
   "outputs": [
    {
     "data": {
      "text/plain": [
       "speech_recognition.AudioFile"
      ]
     },
     "execution_count": 14,
     "metadata": {},
     "output_type": "execute_result"
    }
   ],
   "source": [
    "#Read in audio files\n",
    "clean_hello_world = sr.AudioFile(\"Hello-World.wav\")\n",
    "\n",
    "#Type of our audio file\n",
    "type(clean_hello_world)"
   ]
  },
  {
   "cell_type": "code",
   "execution_count": 16,
   "metadata": {},
   "outputs": [
    {
     "data": {
      "text/plain": [
       "speech_recognition.AudioData"
      ]
     },
     "execution_count": 16,
     "metadata": {},
     "output_type": "execute_result"
    }
   ],
   "source": [
    "#Convert From AudioFile to AudioData \n",
    "with clean_hello_world as source:\n",
    "    \n",
    "    #Record the audio \n",
    "    clean_audio_hello_world = recognizer.record(source)\n",
    "    \n",
    "\n",
    "#Check the type \n",
    "type(clean_audio_hello_world)\n"
   ]
  },
  {
   "cell_type": "code",
   "execution_count": 18,
   "metadata": {},
   "outputs": [
    {
     "data": {
      "text/plain": [
       "'hello world'"
      ]
     },
     "execution_count": 18,
     "metadata": {},
     "output_type": "execute_result"
    }
   ],
   "source": [
    "#Transcribe clean_support_call\n",
    "\n",
    "recognizer.recognize_google(audio_data= clean_audio_hello_world)"
   ]
  },
  {
   "cell_type": "code",
   "execution_count": null,
   "metadata": {},
   "outputs": [],
   "source": []
  }
 ],
 "metadata": {
  "kernelspec": {
   "display_name": "Python 3",
   "language": "python",
   "name": "python3"
  },
  "language_info": {
   "codemirror_mode": {
    "name": "ipython",
    "version": 3
   },
   "file_extension": ".py",
   "mimetype": "text/x-python",
   "name": "python",
   "nbconvert_exporter": "python",
   "pygments_lexer": "ipython3",
   "version": "3.7.1"
  }
 },
 "nbformat": 4,
 "nbformat_minor": 2
}
